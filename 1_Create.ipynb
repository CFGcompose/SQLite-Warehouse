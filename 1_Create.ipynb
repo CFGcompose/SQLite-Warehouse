{
 "metadata": {
  "language_info": {
   "codemirror_mode": {
    "name": "ipython",
    "version": 3
   },
   "file_extension": ".py",
   "mimetype": "text/x-python",
   "name": "python",
   "nbconvert_exporter": "python",
   "pygments_lexer": "ipython3",
   "version": "3.8.5-final"
  },
  "orig_nbformat": 2,
  "kernelspec": {
   "name": "python385jvsc74a57bd0b3ba2566441a7c06988d0923437866b63cedc61552a5af99d1f4fb67d367b25f",
   "display_name": "Python 3.8.5 64-bit (conda)"
  }
 },
 "nbformat": 4,
 "nbformat_minor": 2,
 "cells": [
  {
   "source": [
    "<img src=\"SQLite_logo.png\" width=\"500\" height=\"300\" align=\"right\"/>\n",
    "\n",
    "# Create DataBase and Fill "
   ],
   "cell_type": "markdown",
   "metadata": {}
  },
  {
   "cell_type": "code",
   "execution_count": 1,
   "metadata": {},
   "outputs": [],
   "source": [
    "import pandas as pd\n",
    "import sqlite3 as sql\n"
   ]
  },
  {
   "cell_type": "code",
   "execution_count": 2,
   "metadata": {},
   "outputs": [],
   "source": [
    "def data_to_sql():\n",
    "    import SQLite_Server # data import (excute only once)\n",
    "\n",
    "data_to_sql()"
   ]
  },
  {
   "source": [
    "## Build Connection to DataBAse"
   ],
   "cell_type": "markdown",
   "metadata": {}
  },
  {
   "cell_type": "code",
   "execution_count": 3,
   "metadata": {},
   "outputs": [],
   "source": [
    "to_server = r'.\\My_Customer_Warehouse.db'\n",
    "\n",
    "conn = sql.connect(to_server)\n",
    "c = conn.cursor()"
   ]
  },
  {
   "source": [
    "## Show tables in the database"
   ],
   "cell_type": "markdown",
   "metadata": {}
  },
  {
   "cell_type": "code",
   "execution_count": 4,
   "metadata": {},
   "outputs": [
    {
     "output_type": "execute_result",
     "data": {
      "text/plain": [
       "[('agents',),\n",
       " ('company',),\n",
       " ('customer',),\n",
       " ('orders',),\n",
       " ('daysorder',),\n",
       " ('despatch',),\n",
       " ('foods',),\n",
       " ('listofitem',)]"
      ]
     },
     "metadata": {},
     "execution_count": 4
    }
   ],
   "source": [
    "c.execute(\"SELECT name FROM sqlite_master WHERE type='table';\")\n",
    "c.fetchall()"
   ]
  },
  {
   "source": [
    "## Create Additional Tables"
   ],
   "cell_type": "markdown",
   "metadata": {}
  },
  {
   "cell_type": "code",
   "execution_count": 5,
   "metadata": {},
   "outputs": [],
   "source": [
    "create_students = \"\"\"CREATE TABLE IF NOT EXISTS `student` (\n",
    "  `NAME` varchar(30) NOT NULL,\n",
    "  `TITLE` varchar(25) NOT NULL,\n",
    "  `CLASS` varchar(5) NOT NULL,\n",
    "  `SECTION` varchar(1) NOT NULL,\n",
    "  `ROLLID` decimal(3,0) NOT NULL,\n",
    "  PRIMARY KEY (`CLASS`,`SECTION`,`ROLLID`)\n",
    ")\"\"\"\n",
    "\n",
    "\n",
    "create_stud_reports =\"\"\"CREATE TABLE IF NOT EXISTS `studentreport` (\n",
    "  `CLASS` varchar(5) NOT NULL,\n",
    "  `SECTION` varchar(1) NOT NULL,\n",
    "  `ROLLID` decimal(3,0) NOT NULL,\n",
    "  `GRADE` varchar(5) NOT NULL,\n",
    "  `SEMISTER` varchar(5) DEFAULT NULL,\n",
    "  `CLASS_ATTENDED` decimal(25,0) DEFAULT NULL\n",
    " \n",
    ")\"\"\"\n",
    "\n",
    "\n",
    "c.execute(create_students)\n",
    "c.execute(create_stud_reports)\n",
    "conn.commit()"
   ]
  },
  {
   "cell_type": "code",
   "execution_count": 6,
   "metadata": {},
   "outputs": [],
   "source": [
    "insert_stud = \"\"\"INSERT INTO `student` (`NAME`, `TITLE`, `CLASS`, `SECTION`, `ROLLID`) VALUES\n",
    "('Deepak                        ', 'Saxana                   ', 'V    ', 'A', '15'),\n",
    "('Robert                        ', 'Paul                     ', 'VI   ', 'A', '2'),\n",
    "('Danny                         ', 'Moris                    ', 'V    ', 'B', '15')\"\"\"\n",
    "\n",
    "insert_repo =\"\"\"INSERT INTO `studentreport` (`CLASS`, `SECTION`, `ROLLID`, `GRADE`, `SEMISTER`, `CLASS_ATTENDED`) VALUES\n",
    "('V    ', 'A', '15', 'A++  ', '1St  ', '75'),\n",
    "('VI   ', 'A', '2', 'A+   ', '2Nd  ', '70'),\n",
    "('V    ', 'B', '15', 'AA   ', '1St  ', '85'),\n",
    "('VI   ', 'A', '2', 'A+   ', '1St  ', '70'),\n",
    "('V    ', 'A', '15', 'AA   ', '2Nd  ', '85')\"\"\"\n",
    "\n",
    "c.execute(insert_stud)\n",
    "c.execute(insert_repo)\n",
    "conn.commit()\n"
   ]
  },
  {
   "cell_type": "code",
   "execution_count": 7,
   "metadata": {},
   "outputs": [
    {
     "output_type": "execute_result",
     "data": {
      "text/plain": [
       "[('agents',),\n",
       " ('company',),\n",
       " ('customer',),\n",
       " ('orders',),\n",
       " ('daysorder',),\n",
       " ('despatch',),\n",
       " ('foods',),\n",
       " ('listofitem',),\n",
       " ('student',),\n",
       " ('studentreport',)]"
      ]
     },
     "metadata": {},
     "execution_count": 7
    }
   ],
   "source": [
    "c.execute(\"SELECT name FROM sqlite_master WHERE type='table';\")\n",
    "c.fetchall()"
   ]
  },
  {
   "source": [
    "## Create a new table out of existing tables"
   ],
   "cell_type": "markdown",
   "metadata": {}
  },
  {
   "cell_type": "code",
   "execution_count": 8,
   "metadata": {},
   "outputs": [
    {
     "output_type": "execute_result",
     "data": {
      "text/plain": [
       "<sqlite3.Cursor at 0x16f6d0e0dc0>"
      ]
     },
     "metadata": {},
     "execution_count": 8
    }
   ],
   "source": [
    "query = \"\"\"create table 'customer_analytics' as\n",
    "        select orders.ORD_AMOUNT as AMOUNT,\n",
    "        customer.CUST_NAME as NAME\n",
    "        from orders \n",
    "        join customer\n",
    "        on (orders.CUST_CODE = customer.Cust_Code)\"\"\"\n",
    "\n",
    "c.execute(query)\n"
   ]
  },
  {
   "cell_type": "code",
   "execution_count": 9,
   "metadata": {},
   "outputs": [
    {
     "output_type": "execute_result",
     "data": {
      "text/plain": [
       "[('agents',),\n",
       " ('company',),\n",
       " ('customer',),\n",
       " ('orders',),\n",
       " ('daysorder',),\n",
       " ('despatch',),\n",
       " ('foods',),\n",
       " ('listofitem',),\n",
       " ('student',),\n",
       " ('studentreport',),\n",
       " ('customer_analytics',)]"
      ]
     },
     "metadata": {},
     "execution_count": 9
    }
   ],
   "source": [
    "c.execute(\"SELECT name FROM sqlite_master WHERE type='table';\")\n",
    "c.fetchall()"
   ]
  },
  {
   "source": [
    "## Create new tables using Pandas\n",
    "\n",
    "### Pandas read csv Method"
   ],
   "cell_type": "markdown",
   "metadata": {}
  },
  {
   "cell_type": "code",
   "execution_count": 10,
   "metadata": {},
   "outputs": [],
   "source": [
    "\n",
    "df = pd.read_csv('Income_Expense_Data.csv', sep=',')\n",
    "# # Write the new DataFrame to a new SQLite table\n",
    "df.to_sql(\"Income_Expense_Data\", conn, if_exists=\"replace\")\n",
    "\n"
   ]
  },
  {
   "source": [
    "### Pandas read json File"
   ],
   "cell_type": "markdown",
   "metadata": {}
  },
  {
   "cell_type": "code",
   "execution_count": 11,
   "metadata": {},
   "outputs": [],
   "source": [
    "df_json = pd.read_json(r'.\\online_shoppers_intention.json', orient=None)\n",
    "df_json.to_sql(\"online_shoppers_intention\", conn, if_exists=\"replace\")\n"
   ]
  },
  {
   "cell_type": "code",
   "execution_count": 12,
   "metadata": {},
   "outputs": [
    {
     "output_type": "execute_result",
     "data": {
      "text/plain": [
       "[('agents',),\n",
       " ('company',),\n",
       " ('customer',),\n",
       " ('orders',),\n",
       " ('daysorder',),\n",
       " ('despatch',),\n",
       " ('foods',),\n",
       " ('listofitem',),\n",
       " ('student',),\n",
       " ('studentreport',),\n",
       " ('customer_analytics',),\n",
       " ('Income_Expense_Data',),\n",
       " ('online_shoppers_intention',)]"
      ]
     },
     "metadata": {},
     "execution_count": 12
    }
   ],
   "source": [
    "c.execute(\"SELECT name FROM sqlite_master WHERE type='table';\")\n",
    "c.fetchall()"
   ]
  },
  {
   "cell_type": "code",
   "execution_count": 13,
   "metadata": {},
   "outputs": [],
   "source": [
    "conn.commit()\n",
    "conn.close()"
   ]
  },
  {
   "cell_type": "code",
   "execution_count": null,
   "metadata": {},
   "outputs": [],
   "source": []
  }
 ]
}