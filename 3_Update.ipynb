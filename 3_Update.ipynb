{
 "metadata": {
  "language_info": {
   "codemirror_mode": {
    "name": "ipython",
    "version": 3
   },
   "file_extension": ".py",
   "mimetype": "text/x-python",
   "name": "python",
   "nbconvert_exporter": "python",
   "pygments_lexer": "ipython3",
   "version": "3.8.5-final"
  },
  "orig_nbformat": 2,
  "kernelspec": {
   "name": "python385jvsc74a57bd0b3ba2566441a7c06988d0923437866b63cedc61552a5af99d1f4fb67d367b25f",
   "display_name": "Python 3.8.5 64-bit (conda)"
  }
 },
 "nbformat": 4,
 "nbformat_minor": 2,
 "cells": [
  {
   "source": [
    "<img src=\"SQLite_logo.png\" width=\"500\" height=\"300\" align=\"right\"/>\n",
    "\n",
    "# SQL: Update "
   ],
   "cell_type": "markdown",
   "metadata": {}
  },
  {
   "cell_type": "code",
   "execution_count": 1,
   "metadata": {},
   "outputs": [],
   "source": [
    "import pandas as pd\n",
    "import sqlite3 as sql"
   ]
  },
  {
   "cell_type": "code",
   "execution_count": 2,
   "metadata": {},
   "outputs": [],
   "source": [
    "to_server = r'.\\My_Customer_Warehouse.db'\n",
    "conn = sql.connect(to_server)\n",
    "c = conn.cursor()"
   ]
  },
  {
   "source": [
    "## Update table using execute method"
   ],
   "cell_type": "markdown",
   "metadata": {}
  },
  {
   "cell_type": "code",
   "execution_count": 3,
   "metadata": {},
   "outputs": [
    {
     "output_type": "execute_result",
     "data": {
      "text/plain": [
       "[('agents',),\n",
       " ('company',),\n",
       " ('customer',),\n",
       " ('orders',),\n",
       " ('daysorder',),\n",
       " ('despatch',),\n",
       " ('foods',),\n",
       " ('listofitem',),\n",
       " ('student',),\n",
       " ('studentreport',),\n",
       " ('customer_analytics',),\n",
       " ('Income_Expense_Data',),\n",
       " ('online_shoppers_intention',)]"
      ]
     },
     "metadata": {},
     "execution_count": 3
    }
   ],
   "source": [
    "c.execute(\"SELECT name FROM sqlite_master WHERE type='table';\")\n",
    "c.fetchall()"
   ]
  },
  {
   "cell_type": "code",
   "execution_count": 4,
   "metadata": {},
   "outputs": [
    {
     "output_type": "execute_result",
     "data": {
      "text/plain": [
       "   ORD_NUM  ORD_AMOUNT  ADVANCE_AMOUNT    ORD_DATE CUST_CODE AGENT_CODE  \\\n",
       "0   200100        1000             600  2008-01-08    C00015     A003     \n",
       "1   200110        3000             500  2008-04-15    C00019     A010     \n",
       "2   200107        4500             900  2008-08-30    C00007     A010     \n",
       "3   200112        2000             400  2008-05-30    C00016     A007     \n",
       "4   200113        4000             600  2008-06-10    C00022     A002     \n",
       "\n",
       "  ORD_DESCRIPTION  \n",
       "0           SOD\\r  \n",
       "1           SOD\\r  \n",
       "2           SOD\\r  \n",
       "3           SOD\\r  \n",
       "4           SOD\\r  "
      ],
      "text/html": "<div>\n<style scoped>\n    .dataframe tbody tr th:only-of-type {\n        vertical-align: middle;\n    }\n\n    .dataframe tbody tr th {\n        vertical-align: top;\n    }\n\n    .dataframe thead th {\n        text-align: right;\n    }\n</style>\n<table border=\"1\" class=\"dataframe\">\n  <thead>\n    <tr style=\"text-align: right;\">\n      <th></th>\n      <th>ORD_NUM</th>\n      <th>ORD_AMOUNT</th>\n      <th>ADVANCE_AMOUNT</th>\n      <th>ORD_DATE</th>\n      <th>CUST_CODE</th>\n      <th>AGENT_CODE</th>\n      <th>ORD_DESCRIPTION</th>\n    </tr>\n  </thead>\n  <tbody>\n    <tr>\n      <th>0</th>\n      <td>200100</td>\n      <td>1000</td>\n      <td>600</td>\n      <td>2008-01-08</td>\n      <td>C00015</td>\n      <td>A003</td>\n      <td>SOD\\r</td>\n    </tr>\n    <tr>\n      <th>1</th>\n      <td>200110</td>\n      <td>3000</td>\n      <td>500</td>\n      <td>2008-04-15</td>\n      <td>C00019</td>\n      <td>A010</td>\n      <td>SOD\\r</td>\n    </tr>\n    <tr>\n      <th>2</th>\n      <td>200107</td>\n      <td>4500</td>\n      <td>900</td>\n      <td>2008-08-30</td>\n      <td>C00007</td>\n      <td>A010</td>\n      <td>SOD\\r</td>\n    </tr>\n    <tr>\n      <th>3</th>\n      <td>200112</td>\n      <td>2000</td>\n      <td>400</td>\n      <td>2008-05-30</td>\n      <td>C00016</td>\n      <td>A007</td>\n      <td>SOD\\r</td>\n    </tr>\n    <tr>\n      <th>4</th>\n      <td>200113</td>\n      <td>4000</td>\n      <td>600</td>\n      <td>2008-06-10</td>\n      <td>C00022</td>\n      <td>A002</td>\n      <td>SOD\\r</td>\n    </tr>\n  </tbody>\n</table>\n</div>"
     },
     "metadata": {},
     "execution_count": 4
    }
   ],
   "source": [
    "result = pd.read_sql('select * from orders', conn)\n",
    "result.head()"
   ]
  },
  {
   "source": [
    "### Queries"
   ],
   "cell_type": "markdown",
   "metadata": {}
  },
  {
   "cell_type": "code",
   "execution_count": 5,
   "metadata": {},
   "outputs": [],
   "source": [
    "alter = [\"ALTER TABLE despatch RENAME TO deliveries\", \n",
    "        'alter table student add column AGE']\n",
    "\n",
    "update=['UPDATE orders SET ORD_AMOUNT = 3001 WHERE ORD_NUM = 200110']"
   ]
  },
  {
   "cell_type": "code",
   "execution_count": 6,
   "metadata": {},
   "outputs": [
    {
     "output_type": "execute_result",
     "data": {
      "text/plain": [
       "<sqlite3.Cursor at 0x212322b09d0>"
      ]
     },
     "metadata": {},
     "execution_count": 6
    }
   ],
   "source": [
    "c.execute(alter[0])"
   ]
  },
  {
   "cell_type": "code",
   "execution_count": 7,
   "metadata": {},
   "outputs": [
    {
     "output_type": "execute_result",
     "data": {
      "text/plain": [
       "[('agents',),\n",
       " ('company',),\n",
       " ('customer',),\n",
       " ('orders',),\n",
       " ('daysorder',),\n",
       " ('deliveries',),\n",
       " ('foods',),\n",
       " ('listofitem',),\n",
       " ('student',),\n",
       " ('studentreport',),\n",
       " ('customer_analytics',),\n",
       " ('Income_Expense_Data',),\n",
       " ('online_shoppers_intention',)]"
      ]
     },
     "metadata": {},
     "execution_count": 7
    }
   ],
   "source": [
    "c.execute(\"SELECT name FROM sqlite_master WHERE type='table';\")\n",
    "c.fetchall()"
   ]
  },
  {
   "cell_type": "code",
   "execution_count": 8,
   "metadata": {},
   "outputs": [
    {
     "output_type": "execute_result",
     "data": {
      "text/plain": [
       "<sqlite3.Cursor at 0x212322b09d0>"
      ]
     },
     "metadata": {},
     "execution_count": 8
    }
   ],
   "source": [
    "c.execute(alter[1])"
   ]
  },
  {
   "cell_type": "code",
   "execution_count": 9,
   "metadata": {},
   "outputs": [
    {
     "output_type": "execute_result",
     "data": {
      "text/plain": [
       "                             NAME                      TITLE  CLASS SECTION  \\\n",
       "0  Deepak                          Saxana                     V           A   \n",
       "1  Robert                          Paul                       VI          A   \n",
       "2  Danny                           Moris                      V           B   \n",
       "\n",
       "   ROLLID   AGE  \n",
       "0      15  None  \n",
       "1       2  None  \n",
       "2      15  None  "
      ],
      "text/html": "<div>\n<style scoped>\n    .dataframe tbody tr th:only-of-type {\n        vertical-align: middle;\n    }\n\n    .dataframe tbody tr th {\n        vertical-align: top;\n    }\n\n    .dataframe thead th {\n        text-align: right;\n    }\n</style>\n<table border=\"1\" class=\"dataframe\">\n  <thead>\n    <tr style=\"text-align: right;\">\n      <th></th>\n      <th>NAME</th>\n      <th>TITLE</th>\n      <th>CLASS</th>\n      <th>SECTION</th>\n      <th>ROLLID</th>\n      <th>AGE</th>\n    </tr>\n  </thead>\n  <tbody>\n    <tr>\n      <th>0</th>\n      <td>Deepak</td>\n      <td>Saxana</td>\n      <td>V</td>\n      <td>A</td>\n      <td>15</td>\n      <td>None</td>\n    </tr>\n    <tr>\n      <th>1</th>\n      <td>Robert</td>\n      <td>Paul</td>\n      <td>VI</td>\n      <td>A</td>\n      <td>2</td>\n      <td>None</td>\n    </tr>\n    <tr>\n      <th>2</th>\n      <td>Danny</td>\n      <td>Moris</td>\n      <td>V</td>\n      <td>B</td>\n      <td>15</td>\n      <td>None</td>\n    </tr>\n  </tbody>\n</table>\n</div>"
     },
     "metadata": {},
     "execution_count": 9
    }
   ],
   "source": [
    "result = pd.read_sql('select * from student', conn)\n",
    "result.head()"
   ]
  },
  {
   "cell_type": "code",
   "execution_count": 10,
   "metadata": {},
   "outputs": [
    {
     "output_type": "execute_result",
     "data": {
      "text/plain": [
       "<sqlite3.Cursor at 0x212322b09d0>"
      ]
     },
     "metadata": {},
     "execution_count": 10
    }
   ],
   "source": [
    "c.execute(update[0])"
   ]
  },
  {
   "cell_type": "code",
   "execution_count": 11,
   "metadata": {},
   "outputs": [
    {
     "output_type": "execute_result",
     "data": {
      "text/plain": [
       "   ORD_NUM  ORD_AMOUNT  ADVANCE_AMOUNT    ORD_DATE CUST_CODE AGENT_CODE  \\\n",
       "0   200100        1000             600  2008-01-08    C00015     A003     \n",
       "1   200110        3001             500  2008-04-15    C00019     A010     \n",
       "2   200107        4500             900  2008-08-30    C00007     A010     \n",
       "3   200112        2000             400  2008-05-30    C00016     A007     \n",
       "4   200113        4000             600  2008-06-10    C00022     A002     \n",
       "\n",
       "  ORD_DESCRIPTION  \n",
       "0           SOD\\r  \n",
       "1           SOD\\r  \n",
       "2           SOD\\r  \n",
       "3           SOD\\r  \n",
       "4           SOD\\r  "
      ],
      "text/html": "<div>\n<style scoped>\n    .dataframe tbody tr th:only-of-type {\n        vertical-align: middle;\n    }\n\n    .dataframe tbody tr th {\n        vertical-align: top;\n    }\n\n    .dataframe thead th {\n        text-align: right;\n    }\n</style>\n<table border=\"1\" class=\"dataframe\">\n  <thead>\n    <tr style=\"text-align: right;\">\n      <th></th>\n      <th>ORD_NUM</th>\n      <th>ORD_AMOUNT</th>\n      <th>ADVANCE_AMOUNT</th>\n      <th>ORD_DATE</th>\n      <th>CUST_CODE</th>\n      <th>AGENT_CODE</th>\n      <th>ORD_DESCRIPTION</th>\n    </tr>\n  </thead>\n  <tbody>\n    <tr>\n      <th>0</th>\n      <td>200100</td>\n      <td>1000</td>\n      <td>600</td>\n      <td>2008-01-08</td>\n      <td>C00015</td>\n      <td>A003</td>\n      <td>SOD\\r</td>\n    </tr>\n    <tr>\n      <th>1</th>\n      <td>200110</td>\n      <td>3001</td>\n      <td>500</td>\n      <td>2008-04-15</td>\n      <td>C00019</td>\n      <td>A010</td>\n      <td>SOD\\r</td>\n    </tr>\n    <tr>\n      <th>2</th>\n      <td>200107</td>\n      <td>4500</td>\n      <td>900</td>\n      <td>2008-08-30</td>\n      <td>C00007</td>\n      <td>A010</td>\n      <td>SOD\\r</td>\n    </tr>\n    <tr>\n      <th>3</th>\n      <td>200112</td>\n      <td>2000</td>\n      <td>400</td>\n      <td>2008-05-30</td>\n      <td>C00016</td>\n      <td>A007</td>\n      <td>SOD\\r</td>\n    </tr>\n    <tr>\n      <th>4</th>\n      <td>200113</td>\n      <td>4000</td>\n      <td>600</td>\n      <td>2008-06-10</td>\n      <td>C00022</td>\n      <td>A002</td>\n      <td>SOD\\r</td>\n    </tr>\n  </tbody>\n</table>\n</div>"
     },
     "metadata": {},
     "execution_count": 11
    }
   ],
   "source": [
    "result = pd.read_sql('select * from orders', conn)\n",
    "result.head()"
   ]
  },
  {
   "source": [
    "## Update table using pandas"
   ],
   "cell_type": "markdown",
   "metadata": {}
  },
  {
   "cell_type": "code",
   "execution_count": 12,
   "metadata": {},
   "outputs": [],
   "source": [
    "df_orders = pd.read_sql('select * from orders', conn)\n",
    "df_orders['diff'] = df_orders['ORD_AMOUNT']- df_orders['ADVANCE_AMOUNT']"
   ]
  },
  {
   "cell_type": "code",
   "execution_count": 13,
   "metadata": {},
   "outputs": [],
   "source": [
    "df_orders.to_sql('orders', con=conn, if_exists='replace')"
   ]
  },
  {
   "cell_type": "code",
   "execution_count": 14,
   "metadata": {},
   "outputs": [
    {
     "output_type": "execute_result",
     "data": {
      "text/plain": [
       "   index  ORD_NUM  ORD_AMOUNT  ADVANCE_AMOUNT    ORD_DATE CUST_CODE  \\\n",
       "0      0   200100        1000             600  2008-01-08    C00015   \n",
       "1      1   200110        3001             500  2008-04-15    C00019   \n",
       "2      2   200107        4500             900  2008-08-30    C00007   \n",
       "3      3   200112        2000             400  2008-05-30    C00016   \n",
       "4      4   200113        4000             600  2008-06-10    C00022   \n",
       "\n",
       "  AGENT_CODE ORD_DESCRIPTION  diff  \n",
       "0     A003             SOD\\r   400  \n",
       "1     A010             SOD\\r  2501  \n",
       "2     A010             SOD\\r  3600  \n",
       "3     A007             SOD\\r  1600  \n",
       "4     A002             SOD\\r  3400  "
      ],
      "text/html": "<div>\n<style scoped>\n    .dataframe tbody tr th:only-of-type {\n        vertical-align: middle;\n    }\n\n    .dataframe tbody tr th {\n        vertical-align: top;\n    }\n\n    .dataframe thead th {\n        text-align: right;\n    }\n</style>\n<table border=\"1\" class=\"dataframe\">\n  <thead>\n    <tr style=\"text-align: right;\">\n      <th></th>\n      <th>index</th>\n      <th>ORD_NUM</th>\n      <th>ORD_AMOUNT</th>\n      <th>ADVANCE_AMOUNT</th>\n      <th>ORD_DATE</th>\n      <th>CUST_CODE</th>\n      <th>AGENT_CODE</th>\n      <th>ORD_DESCRIPTION</th>\n      <th>diff</th>\n    </tr>\n  </thead>\n  <tbody>\n    <tr>\n      <th>0</th>\n      <td>0</td>\n      <td>200100</td>\n      <td>1000</td>\n      <td>600</td>\n      <td>2008-01-08</td>\n      <td>C00015</td>\n      <td>A003</td>\n      <td>SOD\\r</td>\n      <td>400</td>\n    </tr>\n    <tr>\n      <th>1</th>\n      <td>1</td>\n      <td>200110</td>\n      <td>3001</td>\n      <td>500</td>\n      <td>2008-04-15</td>\n      <td>C00019</td>\n      <td>A010</td>\n      <td>SOD\\r</td>\n      <td>2501</td>\n    </tr>\n    <tr>\n      <th>2</th>\n      <td>2</td>\n      <td>200107</td>\n      <td>4500</td>\n      <td>900</td>\n      <td>2008-08-30</td>\n      <td>C00007</td>\n      <td>A010</td>\n      <td>SOD\\r</td>\n      <td>3600</td>\n    </tr>\n    <tr>\n      <th>3</th>\n      <td>3</td>\n      <td>200112</td>\n      <td>2000</td>\n      <td>400</td>\n      <td>2008-05-30</td>\n      <td>C00016</td>\n      <td>A007</td>\n      <td>SOD\\r</td>\n      <td>1600</td>\n    </tr>\n    <tr>\n      <th>4</th>\n      <td>4</td>\n      <td>200113</td>\n      <td>4000</td>\n      <td>600</td>\n      <td>2008-06-10</td>\n      <td>C00022</td>\n      <td>A002</td>\n      <td>SOD\\r</td>\n      <td>3400</td>\n    </tr>\n  </tbody>\n</table>\n</div>"
     },
     "metadata": {},
     "execution_count": 14
    }
   ],
   "source": [
    "result = pd.read_sql('select * from orders', conn)\n",
    "result.head()"
   ]
  },
  {
   "cell_type": "code",
   "execution_count": 15,
   "metadata": {},
   "outputs": [],
   "source": [
    "conn.commit()\n",
    "conn.close()"
   ]
  },
  {
   "cell_type": "code",
   "execution_count": null,
   "metadata": {},
   "outputs": [],
   "source": []
  }
 ]
}