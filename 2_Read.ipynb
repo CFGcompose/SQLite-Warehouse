{
 "metadata": {
  "language_info": {
   "codemirror_mode": {
    "name": "ipython",
    "version": 3
   },
   "file_extension": ".py",
   "mimetype": "text/x-python",
   "name": "python",
   "nbconvert_exporter": "python",
   "pygments_lexer": "ipython3",
   "version": "3.8.5-final"
  },
  "orig_nbformat": 2,
  "kernelspec": {
   "name": "python385jvsc74a57bd0b3ba2566441a7c06988d0923437866b63cedc61552a5af99d1f4fb67d367b25f",
   "display_name": "Python 3.8.5 64-bit (conda)"
  }
 },
 "nbformat": 4,
 "nbformat_minor": 2,
 "cells": [
  {
   "source": [
    "<img src=\"SQLite_logo.png\" width=\"500\" height=\"300\" align=\"right\"/>\n",
    "\n",
    "# SQL: Read Tables From DataBase"
   ],
   "cell_type": "markdown",
   "metadata": {}
  },
  {
   "cell_type": "code",
   "execution_count": 1,
   "metadata": {},
   "outputs": [],
   "source": [
    "import pandas as pd\n",
    "import sqlite3 as sql"
   ]
  },
  {
   "cell_type": "code",
   "execution_count": 2,
   "metadata": {},
   "outputs": [],
   "source": [
    "to_server = r'.\\My_Customer_Warehouse.db'\n",
    "conn = sql.connect(to_server)\n",
    "c = conn.cursor()"
   ]
  },
  {
   "source": [
    "## Get Info (header) about all tables in the DataBase "
   ],
   "cell_type": "markdown",
   "metadata": {}
  },
  {
   "cell_type": "code",
   "execution_count": 3,
   "metadata": {},
   "outputs": [],
   "source": [
    "def tables_in_sqlite_db(conn):\n",
    "    cursor = conn.execute(\"SELECT name FROM sqlite_master WHERE type='table';\")\n",
    "    tables = [\n",
    "        v[0] for v in cursor.fetchall()\n",
    "        if v[0] != \"sqlite_sequence\"\n",
    "    ]\n",
    "    cursor.close()\n",
    "    return tables"
   ]
  },
  {
   "cell_type": "code",
   "execution_count": 4,
   "metadata": {},
   "outputs": [
    {
     "output_type": "execute_result",
     "data": {
      "text/plain": [
       "ChainMap(['agents', 'company', 'customer', 'orders', 'daysorder', 'despatch', 'foods', 'listofitem', 'student', 'studentreport', 'customer_analytics', 'Income_Expense_Data', 'online_shoppers_intention'])"
      ]
     },
     "metadata": {},
     "execution_count": 4
    }
   ],
   "source": [
    "tables = tables_in_sqlite_db(conn)\n",
    "sql.collections.ChainMap(tables)"
   ]
  },
  {
   "source": [
    "## Get additional info about a table"
   ],
   "cell_type": "markdown",
   "metadata": {}
  },
  {
   "cell_type": "code",
   "execution_count": 5,
   "metadata": {},
   "outputs": [
    {
     "output_type": "execute_result",
     "data": {
      "text/plain": [
       "[(0, 'ORD_NUM', 'numeric', 0, None, 0),\n",
       " (1, 'ORD_AMOUNT', 'numeric', 0, None, 0),\n",
       " (2, 'ADVANCE_AMOUNT', 'numeric', 0, None, 0),\n",
       " (3, 'ORD_DATE', 'date', 0, None, 0),\n",
       " (4, 'CUST_CODE', 'numeric', 0, None, 0),\n",
       " (5, 'AGENT_CODE', 'text', 0, None, 0),\n",
       " (6, 'ORD_DESCRIPTION', 'text', 0, None, 0)]"
      ]
     },
     "metadata": {},
     "execution_count": 5
    }
   ],
   "source": [
    "c.execute(\"PRAGMA table_info(orders)\")\n",
    "c.fetchall()"
   ]
  },
  {
   "source": [
    "## See all Rows From a Table"
   ],
   "cell_type": "markdown",
   "metadata": {}
  },
  {
   "cell_type": "code",
   "execution_count": 6,
   "metadata": {},
   "outputs": [
    {
     "output_type": "execute_result",
     "data": {
      "text/plain": [
       "['CUST_CODE',\n",
       " 'CUST_NAME',\n",
       " 'CUST_CITY',\n",
       " 'WORKING_AREA',\n",
       " 'CUST_COUNTRY',\n",
       " 'GRADE',\n",
       " 'OPENING_AMT',\n",
       " 'RECEIVE_AMT',\n",
       " 'PAYMENT_AMT',\n",
       " 'OUTSTANDING_AMT',\n",
       " 'PHONE_NO',\n",
       " 'AGENT_CODE']"
      ]
     },
     "metadata": {},
     "execution_count": 6
    }
   ],
   "source": [
    "conn.row_factory = sql.Row\n",
    "cursor = conn.execute('select * from customer')\n",
    "# instead of cursor.description:\n",
    "row = cursor.fetchone()\n",
    "names = row.keys()\n",
    "names\n",
    "\n",
    "\n"
   ]
  },
  {
   "source": [
    "## SQL Queries: Examples"
   ],
   "cell_type": "markdown",
   "metadata": {}
  },
  {
   "cell_type": "code",
   "execution_count": 7,
   "metadata": {},
   "outputs": [],
   "source": [
    "select = ['select * from orders limit 3',\n",
    "        \"SELECT * FROM customer WHERE customer.CUST_NAME LIKE 'M%'\",\n",
    "        \"SELECT * FROM customer WHERE CUST_NAME LIKE '%a'\",\n",
    "        'Select CUST_CODE, WORKING_AREA from customer',\n",
    "         \"SELECT distinct CUST_CODE FROM customer\"]\n",
    "\n",
    "select_join=['Select * from customer inner join orders',\n",
    "        \"Select * from customer inner join orders where customer.CUST_CODE = orders.CUST_CODE and orders.CUST_CODE = 'C00015'\"]\n",
    "\n",
    "select_where=[\"SELECT CUST_NAME FROM customer where CUST_NAME between 'Charles' and 'Michael'\"]\n",
    "\n",
    "select_groupby=['Select * from orders group by CUST_CODE order by ORD_AMOUNT']\n"
   ]
  },
  {
   "source": [
    "## Execute Queries using Pandas\n",
    "\n",
    "### getting table info"
   ],
   "cell_type": "markdown",
   "metadata": {}
  },
  {
   "cell_type": "code",
   "execution_count": 8,
   "metadata": {},
   "outputs": [
    {
     "output_type": "execute_result",
     "data": {
      "text/plain": [
       "    cid             name     type  notnull dflt_value  pk\n",
       "0     0        CUST_CODE     text        0       None   0\n",
       "1     1        CUST_NAME     text        0       None   0\n",
       "2     2        CUST_CITY     text        0       None   0\n",
       "3     3     WORKING_AREA     text        0       None   0\n",
       "4     4     CUST_COUNTRY     text        0       None   0\n",
       "5     5            GRADE  numeric        0       None   0\n",
       "6     6      OPENING_AMT  numeric        0       None   0\n",
       "7     7      RECEIVE_AMT  numeric        0       None   0\n",
       "8     8      PAYMENT_AMT  numeric        0       None   0\n",
       "9     9  OUTSTANDING_AMT  numeric        0       None   0\n",
       "10   10         PHONE_NO     text        0       None   0\n",
       "11   11       AGENT_CODE     text        0       None   0"
      ],
      "text/html": "<div>\n<style scoped>\n    .dataframe tbody tr th:only-of-type {\n        vertical-align: middle;\n    }\n\n    .dataframe tbody tr th {\n        vertical-align: top;\n    }\n\n    .dataframe thead th {\n        text-align: right;\n    }\n</style>\n<table border=\"1\" class=\"dataframe\">\n  <thead>\n    <tr style=\"text-align: right;\">\n      <th></th>\n      <th>cid</th>\n      <th>name</th>\n      <th>type</th>\n      <th>notnull</th>\n      <th>dflt_value</th>\n      <th>pk</th>\n    </tr>\n  </thead>\n  <tbody>\n    <tr>\n      <th>0</th>\n      <td>0</td>\n      <td>CUST_CODE</td>\n      <td>text</td>\n      <td>0</td>\n      <td>None</td>\n      <td>0</td>\n    </tr>\n    <tr>\n      <th>1</th>\n      <td>1</td>\n      <td>CUST_NAME</td>\n      <td>text</td>\n      <td>0</td>\n      <td>None</td>\n      <td>0</td>\n    </tr>\n    <tr>\n      <th>2</th>\n      <td>2</td>\n      <td>CUST_CITY</td>\n      <td>text</td>\n      <td>0</td>\n      <td>None</td>\n      <td>0</td>\n    </tr>\n    <tr>\n      <th>3</th>\n      <td>3</td>\n      <td>WORKING_AREA</td>\n      <td>text</td>\n      <td>0</td>\n      <td>None</td>\n      <td>0</td>\n    </tr>\n    <tr>\n      <th>4</th>\n      <td>4</td>\n      <td>CUST_COUNTRY</td>\n      <td>text</td>\n      <td>0</td>\n      <td>None</td>\n      <td>0</td>\n    </tr>\n    <tr>\n      <th>5</th>\n      <td>5</td>\n      <td>GRADE</td>\n      <td>numeric</td>\n      <td>0</td>\n      <td>None</td>\n      <td>0</td>\n    </tr>\n    <tr>\n      <th>6</th>\n      <td>6</td>\n      <td>OPENING_AMT</td>\n      <td>numeric</td>\n      <td>0</td>\n      <td>None</td>\n      <td>0</td>\n    </tr>\n    <tr>\n      <th>7</th>\n      <td>7</td>\n      <td>RECEIVE_AMT</td>\n      <td>numeric</td>\n      <td>0</td>\n      <td>None</td>\n      <td>0</td>\n    </tr>\n    <tr>\n      <th>8</th>\n      <td>8</td>\n      <td>PAYMENT_AMT</td>\n      <td>numeric</td>\n      <td>0</td>\n      <td>None</td>\n      <td>0</td>\n    </tr>\n    <tr>\n      <th>9</th>\n      <td>9</td>\n      <td>OUTSTANDING_AMT</td>\n      <td>numeric</td>\n      <td>0</td>\n      <td>None</td>\n      <td>0</td>\n    </tr>\n    <tr>\n      <th>10</th>\n      <td>10</td>\n      <td>PHONE_NO</td>\n      <td>text</td>\n      <td>0</td>\n      <td>None</td>\n      <td>0</td>\n    </tr>\n    <tr>\n      <th>11</th>\n      <td>11</td>\n      <td>AGENT_CODE</td>\n      <td>text</td>\n      <td>0</td>\n      <td>None</td>\n      <td>0</td>\n    </tr>\n  </tbody>\n</table>\n</div>"
     },
     "metadata": {},
     "execution_count": 8
    }
   ],
   "source": [
    "pd.read_sql_query(\"\"\"\n",
    "PRAGMA table_info(customer);\n",
    "\"\"\", conn)"
   ]
  },
  {
   "cell_type": "code",
   "execution_count": 9,
   "metadata": {},
   "outputs": [
    {
     "output_type": "execute_result",
     "data": {
      "text/plain": [
       "   ORD_NUM  ORD_AMOUNT  ADVANCE_AMOUNT    ORD_DATE CUST_CODE AGENT_CODE  \\\n",
       "0   200100        1000             600  2008-01-08    C00015     A003     \n",
       "1   200110        3000             500  2008-04-15    C00019     A010     \n",
       "2   200107        4500             900  2008-08-30    C00007     A010     \n",
       "\n",
       "  ORD_DESCRIPTION  \n",
       "0           SOD\\r  \n",
       "1           SOD\\r  \n",
       "2           SOD\\r  "
      ],
      "text/html": "<div>\n<style scoped>\n    .dataframe tbody tr th:only-of-type {\n        vertical-align: middle;\n    }\n\n    .dataframe tbody tr th {\n        vertical-align: top;\n    }\n\n    .dataframe thead th {\n        text-align: right;\n    }\n</style>\n<table border=\"1\" class=\"dataframe\">\n  <thead>\n    <tr style=\"text-align: right;\">\n      <th></th>\n      <th>ORD_NUM</th>\n      <th>ORD_AMOUNT</th>\n      <th>ADVANCE_AMOUNT</th>\n      <th>ORD_DATE</th>\n      <th>CUST_CODE</th>\n      <th>AGENT_CODE</th>\n      <th>ORD_DESCRIPTION</th>\n    </tr>\n  </thead>\n  <tbody>\n    <tr>\n      <th>0</th>\n      <td>200100</td>\n      <td>1000</td>\n      <td>600</td>\n      <td>2008-01-08</td>\n      <td>C00015</td>\n      <td>A003</td>\n      <td>SOD\\r</td>\n    </tr>\n    <tr>\n      <th>1</th>\n      <td>200110</td>\n      <td>3000</td>\n      <td>500</td>\n      <td>2008-04-15</td>\n      <td>C00019</td>\n      <td>A010</td>\n      <td>SOD\\r</td>\n    </tr>\n    <tr>\n      <th>2</th>\n      <td>200107</td>\n      <td>4500</td>\n      <td>900</td>\n      <td>2008-08-30</td>\n      <td>C00007</td>\n      <td>A010</td>\n      <td>SOD\\r</td>\n    </tr>\n  </tbody>\n</table>\n</div>"
     },
     "metadata": {},
     "execution_count": 9
    }
   ],
   "source": [
    "result = pd.read_sql(select[0], conn)\n",
    "result.head()\n",
    "    "
   ]
  },
  {
   "cell_type": "code",
   "execution_count": 10,
   "metadata": {},
   "outputs": [
    {
     "output_type": "execute_result",
     "data": {
      "text/plain": [
       "  CUST_CODE CUST_NAME                            CUST_CITY WORKING_AREA  \\\n",
       "0    C00001   Micheal  New York                                New York   \n",
       "1    C00003    Martin  Torento                                  Torento   \n",
       "\n",
       "  CUST_COUNTRY  GRADE  OPENING_AMT  RECEIVE_AMT  PAYMENT_AMT  OUTSTANDING_AMT  \\\n",
       "0          USA      2         3000         5000         2000             6000   \n",
       "1       Canada      2         8000         7000         7000             8000   \n",
       "\n",
       "  PHONE_NO AGENT_CODE  \n",
       "0  CCCCCCC     A008    \n",
       "1  MJYURFD     A004    "
      ],
      "text/html": "<div>\n<style scoped>\n    .dataframe tbody tr th:only-of-type {\n        vertical-align: middle;\n    }\n\n    .dataframe tbody tr th {\n        vertical-align: top;\n    }\n\n    .dataframe thead th {\n        text-align: right;\n    }\n</style>\n<table border=\"1\" class=\"dataframe\">\n  <thead>\n    <tr style=\"text-align: right;\">\n      <th></th>\n      <th>CUST_CODE</th>\n      <th>CUST_NAME</th>\n      <th>CUST_CITY</th>\n      <th>WORKING_AREA</th>\n      <th>CUST_COUNTRY</th>\n      <th>GRADE</th>\n      <th>OPENING_AMT</th>\n      <th>RECEIVE_AMT</th>\n      <th>PAYMENT_AMT</th>\n      <th>OUTSTANDING_AMT</th>\n      <th>PHONE_NO</th>\n      <th>AGENT_CODE</th>\n    </tr>\n  </thead>\n  <tbody>\n    <tr>\n      <th>0</th>\n      <td>C00001</td>\n      <td>Micheal</td>\n      <td>New York</td>\n      <td>New York</td>\n      <td>USA</td>\n      <td>2</td>\n      <td>3000</td>\n      <td>5000</td>\n      <td>2000</td>\n      <td>6000</td>\n      <td>CCCCCCC</td>\n      <td>A008</td>\n    </tr>\n    <tr>\n      <th>1</th>\n      <td>C00003</td>\n      <td>Martin</td>\n      <td>Torento</td>\n      <td>Torento</td>\n      <td>Canada</td>\n      <td>2</td>\n      <td>8000</td>\n      <td>7000</td>\n      <td>7000</td>\n      <td>8000</td>\n      <td>MJYURFD</td>\n      <td>A004</td>\n    </tr>\n  </tbody>\n</table>\n</div>"
     },
     "metadata": {},
     "execution_count": 10
    }
   ],
   "source": [
    "result = pd.read_sql(select[1], conn)\n",
    "result.head()"
   ]
  },
  {
   "cell_type": "code",
   "execution_count": 11,
   "metadata": {},
   "outputs": [
    {
     "output_type": "execute_result",
     "data": {
      "text/plain": [
       "  CUST_CODE   CUST_NAME                            CUST_CITY WORKING_AREA  \\\n",
       "0    C00008    Karolina  Torento                                  Torento   \n",
       "1    C00014  Rangarappa  Bangalore                              Bangalore   \n",
       "2    C00011   Sundariya  Chennai                                  Chennai   \n",
       "\n",
       "  CUST_COUNTRY  GRADE  OPENING_AMT  RECEIVE_AMT  PAYMENT_AMT  OUTSTANDING_AMT  \\\n",
       "0       Canada      1         7000         7000         9000             5000   \n",
       "1        India      2         8000        11000         7000            12000   \n",
       "2        India      3         7000        11000         7000            11000   \n",
       "\n",
       "  PHONE_NO AGENT_CODE  \n",
       "0  HJKORED     A004    \n",
       "1  AAAATGF     A001    \n",
       "2  PPHGRTS     A010    "
      ],
      "text/html": "<div>\n<style scoped>\n    .dataframe tbody tr th:only-of-type {\n        vertical-align: middle;\n    }\n\n    .dataframe tbody tr th {\n        vertical-align: top;\n    }\n\n    .dataframe thead th {\n        text-align: right;\n    }\n</style>\n<table border=\"1\" class=\"dataframe\">\n  <thead>\n    <tr style=\"text-align: right;\">\n      <th></th>\n      <th>CUST_CODE</th>\n      <th>CUST_NAME</th>\n      <th>CUST_CITY</th>\n      <th>WORKING_AREA</th>\n      <th>CUST_COUNTRY</th>\n      <th>GRADE</th>\n      <th>OPENING_AMT</th>\n      <th>RECEIVE_AMT</th>\n      <th>PAYMENT_AMT</th>\n      <th>OUTSTANDING_AMT</th>\n      <th>PHONE_NO</th>\n      <th>AGENT_CODE</th>\n    </tr>\n  </thead>\n  <tbody>\n    <tr>\n      <th>0</th>\n      <td>C00008</td>\n      <td>Karolina</td>\n      <td>Torento</td>\n      <td>Torento</td>\n      <td>Canada</td>\n      <td>1</td>\n      <td>7000</td>\n      <td>7000</td>\n      <td>9000</td>\n      <td>5000</td>\n      <td>HJKORED</td>\n      <td>A004</td>\n    </tr>\n    <tr>\n      <th>1</th>\n      <td>C00014</td>\n      <td>Rangarappa</td>\n      <td>Bangalore</td>\n      <td>Bangalore</td>\n      <td>India</td>\n      <td>2</td>\n      <td>8000</td>\n      <td>11000</td>\n      <td>7000</td>\n      <td>12000</td>\n      <td>AAAATGF</td>\n      <td>A001</td>\n    </tr>\n    <tr>\n      <th>2</th>\n      <td>C00011</td>\n      <td>Sundariya</td>\n      <td>Chennai</td>\n      <td>Chennai</td>\n      <td>India</td>\n      <td>3</td>\n      <td>7000</td>\n      <td>11000</td>\n      <td>7000</td>\n      <td>11000</td>\n      <td>PPHGRTS</td>\n      <td>A010</td>\n    </tr>\n  </tbody>\n</table>\n</div>"
     },
     "metadata": {},
     "execution_count": 11
    }
   ],
   "source": [
    "result = pd.read_sql(select[2], conn)\n",
    "result.head()"
   ]
  },
  {
   "cell_type": "code",
   "execution_count": 12,
   "metadata": {},
   "outputs": [
    {
     "output_type": "execute_result",
     "data": {
      "text/plain": [
       "  CUST_CODE WORKING_AREA\n",
       "0    C00013       London\n",
       "1    C00001     New York\n",
       "2    C00020     New York\n",
       "3    C00025    Bangalore\n",
       "4    C00024       London"
      ],
      "text/html": "<div>\n<style scoped>\n    .dataframe tbody tr th:only-of-type {\n        vertical-align: middle;\n    }\n\n    .dataframe tbody tr th {\n        vertical-align: top;\n    }\n\n    .dataframe thead th {\n        text-align: right;\n    }\n</style>\n<table border=\"1\" class=\"dataframe\">\n  <thead>\n    <tr style=\"text-align: right;\">\n      <th></th>\n      <th>CUST_CODE</th>\n      <th>WORKING_AREA</th>\n    </tr>\n  </thead>\n  <tbody>\n    <tr>\n      <th>0</th>\n      <td>C00013</td>\n      <td>London</td>\n    </tr>\n    <tr>\n      <th>1</th>\n      <td>C00001</td>\n      <td>New York</td>\n    </tr>\n    <tr>\n      <th>2</th>\n      <td>C00020</td>\n      <td>New York</td>\n    </tr>\n    <tr>\n      <th>3</th>\n      <td>C00025</td>\n      <td>Bangalore</td>\n    </tr>\n    <tr>\n      <th>4</th>\n      <td>C00024</td>\n      <td>London</td>\n    </tr>\n  </tbody>\n</table>\n</div>"
     },
     "metadata": {},
     "execution_count": 12
    }
   ],
   "source": [
    "result = pd.read_sql(select[3], conn)\n",
    "result.head()"
   ]
  },
  {
   "cell_type": "code",
   "execution_count": 13,
   "metadata": {},
   "outputs": [
    {
     "output_type": "execute_result",
     "data": {
      "text/plain": [
       "  CUST_CODE\n",
       "0    C00013\n",
       "1    C00001\n",
       "2    C00020\n",
       "3    C00025\n",
       "4    C00024"
      ],
      "text/html": "<div>\n<style scoped>\n    .dataframe tbody tr th:only-of-type {\n        vertical-align: middle;\n    }\n\n    .dataframe tbody tr th {\n        vertical-align: top;\n    }\n\n    .dataframe thead th {\n        text-align: right;\n    }\n</style>\n<table border=\"1\" class=\"dataframe\">\n  <thead>\n    <tr style=\"text-align: right;\">\n      <th></th>\n      <th>CUST_CODE</th>\n    </tr>\n  </thead>\n  <tbody>\n    <tr>\n      <th>0</th>\n      <td>C00013</td>\n    </tr>\n    <tr>\n      <th>1</th>\n      <td>C00001</td>\n    </tr>\n    <tr>\n      <th>2</th>\n      <td>C00020</td>\n    </tr>\n    <tr>\n      <th>3</th>\n      <td>C00025</td>\n    </tr>\n    <tr>\n      <th>4</th>\n      <td>C00024</td>\n    </tr>\n  </tbody>\n</table>\n</div>"
     },
     "metadata": {},
     "execution_count": 13
    }
   ],
   "source": [
    "result = pd.read_sql(select[4], conn)\n",
    "result.head()"
   ]
  },
  {
   "cell_type": "code",
   "execution_count": 14,
   "metadata": {},
   "outputs": [
    {
     "output_type": "execute_result",
     "data": {
      "text/plain": [
       "  CUST_CODE CUST_NAME                            CUST_CITY WORKING_AREA  \\\n",
       "0    C00013    Holmes  London                                    London   \n",
       "1    C00013    Holmes  London                                    London   \n",
       "2    C00013    Holmes  London                                    London   \n",
       "3    C00013    Holmes  London                                    London   \n",
       "4    C00013    Holmes  London                                    London   \n",
       "\n",
       "  CUST_COUNTRY  GRADE  OPENING_AMT  RECEIVE_AMT  PAYMENT_AMT  OUTSTANDING_AMT  \\\n",
       "0           UK      2         6000         5000         7000             4000   \n",
       "1           UK      2         6000         5000         7000             4000   \n",
       "2           UK      2         6000         5000         7000             4000   \n",
       "3           UK      2         6000         5000         7000             4000   \n",
       "4           UK      2         6000         5000         7000             4000   \n",
       "\n",
       "  PHONE_NO AGENT_CODE  ORD_NUM  ORD_AMOUNT  ADVANCE_AMOUNT    ORD_DATE  \\\n",
       "0  BBBBBBB     A003     200100        1000             600  2008-01-08   \n",
       "1  BBBBBBB     A003     200110        3000             500  2008-04-15   \n",
       "2  BBBBBBB     A003     200107        4500             900  2008-08-30   \n",
       "3  BBBBBBB     A003     200112        2000             400  2008-05-30   \n",
       "4  BBBBBBB     A003     200113        4000             600  2008-06-10   \n",
       "\n",
       "  CUST_CODE AGENT_CODE ORD_DESCRIPTION  \n",
       "0    C00015     A003             SOD\\r  \n",
       "1    C00019     A010             SOD\\r  \n",
       "2    C00007     A010             SOD\\r  \n",
       "3    C00016     A007             SOD\\r  \n",
       "4    C00022     A002             SOD\\r  "
      ],
      "text/html": "<div>\n<style scoped>\n    .dataframe tbody tr th:only-of-type {\n        vertical-align: middle;\n    }\n\n    .dataframe tbody tr th {\n        vertical-align: top;\n    }\n\n    .dataframe thead th {\n        text-align: right;\n    }\n</style>\n<table border=\"1\" class=\"dataframe\">\n  <thead>\n    <tr style=\"text-align: right;\">\n      <th></th>\n      <th>CUST_CODE</th>\n      <th>CUST_NAME</th>\n      <th>CUST_CITY</th>\n      <th>WORKING_AREA</th>\n      <th>CUST_COUNTRY</th>\n      <th>GRADE</th>\n      <th>OPENING_AMT</th>\n      <th>RECEIVE_AMT</th>\n      <th>PAYMENT_AMT</th>\n      <th>OUTSTANDING_AMT</th>\n      <th>PHONE_NO</th>\n      <th>AGENT_CODE</th>\n      <th>ORD_NUM</th>\n      <th>ORD_AMOUNT</th>\n      <th>ADVANCE_AMOUNT</th>\n      <th>ORD_DATE</th>\n      <th>CUST_CODE</th>\n      <th>AGENT_CODE</th>\n      <th>ORD_DESCRIPTION</th>\n    </tr>\n  </thead>\n  <tbody>\n    <tr>\n      <th>0</th>\n      <td>C00013</td>\n      <td>Holmes</td>\n      <td>London</td>\n      <td>London</td>\n      <td>UK</td>\n      <td>2</td>\n      <td>6000</td>\n      <td>5000</td>\n      <td>7000</td>\n      <td>4000</td>\n      <td>BBBBBBB</td>\n      <td>A003</td>\n      <td>200100</td>\n      <td>1000</td>\n      <td>600</td>\n      <td>2008-01-08</td>\n      <td>C00015</td>\n      <td>A003</td>\n      <td>SOD\\r</td>\n    </tr>\n    <tr>\n      <th>1</th>\n      <td>C00013</td>\n      <td>Holmes</td>\n      <td>London</td>\n      <td>London</td>\n      <td>UK</td>\n      <td>2</td>\n      <td>6000</td>\n      <td>5000</td>\n      <td>7000</td>\n      <td>4000</td>\n      <td>BBBBBBB</td>\n      <td>A003</td>\n      <td>200110</td>\n      <td>3000</td>\n      <td>500</td>\n      <td>2008-04-15</td>\n      <td>C00019</td>\n      <td>A010</td>\n      <td>SOD\\r</td>\n    </tr>\n    <tr>\n      <th>2</th>\n      <td>C00013</td>\n      <td>Holmes</td>\n      <td>London</td>\n      <td>London</td>\n      <td>UK</td>\n      <td>2</td>\n      <td>6000</td>\n      <td>5000</td>\n      <td>7000</td>\n      <td>4000</td>\n      <td>BBBBBBB</td>\n      <td>A003</td>\n      <td>200107</td>\n      <td>4500</td>\n      <td>900</td>\n      <td>2008-08-30</td>\n      <td>C00007</td>\n      <td>A010</td>\n      <td>SOD\\r</td>\n    </tr>\n    <tr>\n      <th>3</th>\n      <td>C00013</td>\n      <td>Holmes</td>\n      <td>London</td>\n      <td>London</td>\n      <td>UK</td>\n      <td>2</td>\n      <td>6000</td>\n      <td>5000</td>\n      <td>7000</td>\n      <td>4000</td>\n      <td>BBBBBBB</td>\n      <td>A003</td>\n      <td>200112</td>\n      <td>2000</td>\n      <td>400</td>\n      <td>2008-05-30</td>\n      <td>C00016</td>\n      <td>A007</td>\n      <td>SOD\\r</td>\n    </tr>\n    <tr>\n      <th>4</th>\n      <td>C00013</td>\n      <td>Holmes</td>\n      <td>London</td>\n      <td>London</td>\n      <td>UK</td>\n      <td>2</td>\n      <td>6000</td>\n      <td>5000</td>\n      <td>7000</td>\n      <td>4000</td>\n      <td>BBBBBBB</td>\n      <td>A003</td>\n      <td>200113</td>\n      <td>4000</td>\n      <td>600</td>\n      <td>2008-06-10</td>\n      <td>C00022</td>\n      <td>A002</td>\n      <td>SOD\\r</td>\n    </tr>\n  </tbody>\n</table>\n</div>"
     },
     "metadata": {},
     "execution_count": 14
    }
   ],
   "source": [
    "result = pd.read_sql(select_join[0], conn)\n",
    "result.head()"
   ]
  },
  {
   "cell_type": "code",
   "execution_count": 15,
   "metadata": {},
   "outputs": [
    {
     "output_type": "execute_result",
     "data": {
      "text/plain": [
       "  CUST_CODE CUST_NAME                            CUST_CITY WORKING_AREA  \\\n",
       "0    C00015    Stuart  London                                    London   \n",
       "1    C00015    Stuart  London                                    London   \n",
       "\n",
       "  CUST_COUNTRY  GRADE  OPENING_AMT  RECEIVE_AMT  PAYMENT_AMT  OUTSTANDING_AMT  \\\n",
       "0           UK      1         6000         8000         3000            11000   \n",
       "1           UK      1         6000         8000         3000            11000   \n",
       "\n",
       "  PHONE_NO AGENT_CODE  ORD_NUM  ORD_AMOUNT  ADVANCE_AMOUNT    ORD_DATE  \\\n",
       "0  GFSGERS     A003     200100        1000             600  2008-01-08   \n",
       "1  GFSGERS     A003     200127        2500             400  2008-07-20   \n",
       "\n",
       "  CUST_CODE AGENT_CODE ORD_DESCRIPTION  \n",
       "0    C00015     A003             SOD\\r  \n",
       "1    C00015     A003             SOD\\r  "
      ],
      "text/html": "<div>\n<style scoped>\n    .dataframe tbody tr th:only-of-type {\n        vertical-align: middle;\n    }\n\n    .dataframe tbody tr th {\n        vertical-align: top;\n    }\n\n    .dataframe thead th {\n        text-align: right;\n    }\n</style>\n<table border=\"1\" class=\"dataframe\">\n  <thead>\n    <tr style=\"text-align: right;\">\n      <th></th>\n      <th>CUST_CODE</th>\n      <th>CUST_NAME</th>\n      <th>CUST_CITY</th>\n      <th>WORKING_AREA</th>\n      <th>CUST_COUNTRY</th>\n      <th>GRADE</th>\n      <th>OPENING_AMT</th>\n      <th>RECEIVE_AMT</th>\n      <th>PAYMENT_AMT</th>\n      <th>OUTSTANDING_AMT</th>\n      <th>PHONE_NO</th>\n      <th>AGENT_CODE</th>\n      <th>ORD_NUM</th>\n      <th>ORD_AMOUNT</th>\n      <th>ADVANCE_AMOUNT</th>\n      <th>ORD_DATE</th>\n      <th>CUST_CODE</th>\n      <th>AGENT_CODE</th>\n      <th>ORD_DESCRIPTION</th>\n    </tr>\n  </thead>\n  <tbody>\n    <tr>\n      <th>0</th>\n      <td>C00015</td>\n      <td>Stuart</td>\n      <td>London</td>\n      <td>London</td>\n      <td>UK</td>\n      <td>1</td>\n      <td>6000</td>\n      <td>8000</td>\n      <td>3000</td>\n      <td>11000</td>\n      <td>GFSGERS</td>\n      <td>A003</td>\n      <td>200100</td>\n      <td>1000</td>\n      <td>600</td>\n      <td>2008-01-08</td>\n      <td>C00015</td>\n      <td>A003</td>\n      <td>SOD\\r</td>\n    </tr>\n    <tr>\n      <th>1</th>\n      <td>C00015</td>\n      <td>Stuart</td>\n      <td>London</td>\n      <td>London</td>\n      <td>UK</td>\n      <td>1</td>\n      <td>6000</td>\n      <td>8000</td>\n      <td>3000</td>\n      <td>11000</td>\n      <td>GFSGERS</td>\n      <td>A003</td>\n      <td>200127</td>\n      <td>2500</td>\n      <td>400</td>\n      <td>2008-07-20</td>\n      <td>C00015</td>\n      <td>A003</td>\n      <td>SOD\\r</td>\n    </tr>\n  </tbody>\n</table>\n</div>"
     },
     "metadata": {},
     "execution_count": 15
    }
   ],
   "source": [
    "result = pd.read_sql(select_join[1], conn)\n",
    "result.head()"
   ]
  },
  {
   "cell_type": "code",
   "execution_count": 16,
   "metadata": {},
   "outputs": [
    {
     "output_type": "execute_result",
     "data": {
      "text/plain": [
       "  CUST_NAME\n",
       "0    Holmes\n",
       "1      Cook\n",
       "2   Fleming\n",
       "3     Jacks\n",
       "4      Karl"
      ],
      "text/html": "<div>\n<style scoped>\n    .dataframe tbody tr th:only-of-type {\n        vertical-align: middle;\n    }\n\n    .dataframe tbody tr th {\n        vertical-align: top;\n    }\n\n    .dataframe thead th {\n        text-align: right;\n    }\n</style>\n<table border=\"1\" class=\"dataframe\">\n  <thead>\n    <tr style=\"text-align: right;\">\n      <th></th>\n      <th>CUST_NAME</th>\n    </tr>\n  </thead>\n  <tbody>\n    <tr>\n      <th>0</th>\n      <td>Holmes</td>\n    </tr>\n    <tr>\n      <th>1</th>\n      <td>Cook</td>\n    </tr>\n    <tr>\n      <th>2</th>\n      <td>Fleming</td>\n    </tr>\n    <tr>\n      <th>3</th>\n      <td>Jacks</td>\n    </tr>\n    <tr>\n      <th>4</th>\n      <td>Karl</td>\n    </tr>\n  </tbody>\n</table>\n</div>"
     },
     "metadata": {},
     "execution_count": 16
    }
   ],
   "source": [
    "result = pd.read_sql(select_where[0], conn)\n",
    "result.head()"
   ]
  },
  {
   "cell_type": "code",
   "execution_count": 17,
   "metadata": {},
   "outputs": [
    {
     "output_type": "execute_result",
     "data": {
      "text/plain": [
       "   ORD_NUM  ORD_AMOUNT  ADVANCE_AMOUNT    ORD_DATE CUST_CODE AGENT_CODE  \\\n",
       "0   200120         500             100  2008-07-20    C00009     A002     \n",
       "1   200116         500             100  2008-07-13    C00010     A009     \n",
       "2   200124         500             100  2008-06-20    C00017     A007     \n",
       "3   200118         500             100  2008-07-20    C00023     A006     \n",
       "4   200117         800             200  2008-10-20    C00014     A001     \n",
       "\n",
       "  ORD_DESCRIPTION  \n",
       "0           SOD\\r  \n",
       "1           SOD\\r  \n",
       "2           SOD\\r  \n",
       "3           SOD\\r  \n",
       "4           SOD\\r  "
      ],
      "text/html": "<div>\n<style scoped>\n    .dataframe tbody tr th:only-of-type {\n        vertical-align: middle;\n    }\n\n    .dataframe tbody tr th {\n        vertical-align: top;\n    }\n\n    .dataframe thead th {\n        text-align: right;\n    }\n</style>\n<table border=\"1\" class=\"dataframe\">\n  <thead>\n    <tr style=\"text-align: right;\">\n      <th></th>\n      <th>ORD_NUM</th>\n      <th>ORD_AMOUNT</th>\n      <th>ADVANCE_AMOUNT</th>\n      <th>ORD_DATE</th>\n      <th>CUST_CODE</th>\n      <th>AGENT_CODE</th>\n      <th>ORD_DESCRIPTION</th>\n    </tr>\n  </thead>\n  <tbody>\n    <tr>\n      <th>0</th>\n      <td>200120</td>\n      <td>500</td>\n      <td>100</td>\n      <td>2008-07-20</td>\n      <td>C00009</td>\n      <td>A002</td>\n      <td>SOD\\r</td>\n    </tr>\n    <tr>\n      <th>1</th>\n      <td>200116</td>\n      <td>500</td>\n      <td>100</td>\n      <td>2008-07-13</td>\n      <td>C00010</td>\n      <td>A009</td>\n      <td>SOD\\r</td>\n    </tr>\n    <tr>\n      <th>2</th>\n      <td>200124</td>\n      <td>500</td>\n      <td>100</td>\n      <td>2008-06-20</td>\n      <td>C00017</td>\n      <td>A007</td>\n      <td>SOD\\r</td>\n    </tr>\n    <tr>\n      <th>3</th>\n      <td>200118</td>\n      <td>500</td>\n      <td>100</td>\n      <td>2008-07-20</td>\n      <td>C00023</td>\n      <td>A006</td>\n      <td>SOD\\r</td>\n    </tr>\n    <tr>\n      <th>4</th>\n      <td>200117</td>\n      <td>800</td>\n      <td>200</td>\n      <td>2008-10-20</td>\n      <td>C00014</td>\n      <td>A001</td>\n      <td>SOD\\r</td>\n    </tr>\n  </tbody>\n</table>\n</div>"
     },
     "metadata": {},
     "execution_count": 17
    }
   ],
   "source": [
    "result = pd.read_sql(select_groupby[0], conn)\n",
    "result.head()"
   ]
  },
  {
   "cell_type": "code",
   "execution_count": 18,
   "metadata": {},
   "outputs": [],
   "source": [
    "conn.commit()\n",
    "conn.close()"
   ]
  },
  {
   "cell_type": "code",
   "execution_count": null,
   "metadata": {},
   "outputs": [],
   "source": []
  }
 ]
}