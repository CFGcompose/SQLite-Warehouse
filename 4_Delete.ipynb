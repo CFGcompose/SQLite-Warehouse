{
 "metadata": {
  "language_info": {
   "codemirror_mode": {
    "name": "ipython",
    "version": 3
   },
   "file_extension": ".py",
   "mimetype": "text/x-python",
   "name": "python",
   "nbconvert_exporter": "python",
   "pygments_lexer": "ipython3",
   "version": "3.8.5-final"
  },
  "orig_nbformat": 2,
  "kernelspec": {
   "name": "python385jvsc74a57bd0b3ba2566441a7c06988d0923437866b63cedc61552a5af99d1f4fb67d367b25f",
   "display_name": "Python 3.8.5 64-bit (conda)"
  }
 },
 "nbformat": 4,
 "nbformat_minor": 2,
 "cells": [
  {
   "source": [
    "<img src=\"SQLite_logo.png\" width=\"500\" height=\"300\" align=\"right\"/>\n",
    "\n",
    "# SQL: Delete"
   ],
   "cell_type": "markdown",
   "metadata": {}
  },
  {
   "cell_type": "code",
   "execution_count": 1,
   "metadata": {},
   "outputs": [],
   "source": [
    "import pandas as pd\n",
    "import sqlite3 as sql"
   ]
  },
  {
   "cell_type": "code",
   "execution_count": 2,
   "metadata": {},
   "outputs": [],
   "source": [
    "to_server = r'.\\My_Customer_Warehouse.db'\n",
    "conn = sql.connect(to_server)\n",
    "c = conn.cursor()"
   ]
  },
  {
   "source": [
    "# See tables"
   ],
   "cell_type": "markdown",
   "metadata": {}
  },
  {
   "cell_type": "code",
   "execution_count": 3,
   "metadata": {},
   "outputs": [
    {
     "output_type": "execute_result",
     "data": {
      "text/plain": [
       "[('agents',),\n",
       " ('company',),\n",
       " ('customer',),\n",
       " ('daysorder',),\n",
       " ('deliveries',),\n",
       " ('foods',),\n",
       " ('listofitem',),\n",
       " ('student',),\n",
       " ('studentreport',),\n",
       " ('customer_analytics',),\n",
       " ('Income_Expense_Data',),\n",
       " ('online_shoppers_intention',),\n",
       " ('orders',)]"
      ]
     },
     "metadata": {},
     "execution_count": 3
    }
   ],
   "source": [
    "c.execute(\"SELECT name FROM sqlite_master WHERE type='table';\")\n",
    "c.fetchall()"
   ]
  },
  {
   "cell_type": "code",
   "execution_count": 4,
   "metadata": {},
   "outputs": [
    {
     "output_type": "execute_result",
     "data": {
      "text/plain": [
       "   index  ORD_NUM  ORD_AMOUNT  ADVANCE_AMOUNT    ORD_DATE CUST_CODE  \\\n",
       "0      0   200100        1000             600  2008-01-08    C00015   \n",
       "1      1   200110        3001             500  2008-04-15    C00019   \n",
       "2      2   200107        4500             900  2008-08-30    C00007   \n",
       "3      3   200112        2000             400  2008-05-30    C00016   \n",
       "4      4   200113        4000             600  2008-06-10    C00022   \n",
       "\n",
       "  AGENT_CODE ORD_DESCRIPTION  diff  \n",
       "0     A003             SOD\\r   400  \n",
       "1     A010             SOD\\r  2501  \n",
       "2     A010             SOD\\r  3600  \n",
       "3     A007             SOD\\r  1600  \n",
       "4     A002             SOD\\r  3400  "
      ],
      "text/html": "<div>\n<style scoped>\n    .dataframe tbody tr th:only-of-type {\n        vertical-align: middle;\n    }\n\n    .dataframe tbody tr th {\n        vertical-align: top;\n    }\n\n    .dataframe thead th {\n        text-align: right;\n    }\n</style>\n<table border=\"1\" class=\"dataframe\">\n  <thead>\n    <tr style=\"text-align: right;\">\n      <th></th>\n      <th>index</th>\n      <th>ORD_NUM</th>\n      <th>ORD_AMOUNT</th>\n      <th>ADVANCE_AMOUNT</th>\n      <th>ORD_DATE</th>\n      <th>CUST_CODE</th>\n      <th>AGENT_CODE</th>\n      <th>ORD_DESCRIPTION</th>\n      <th>diff</th>\n    </tr>\n  </thead>\n  <tbody>\n    <tr>\n      <th>0</th>\n      <td>0</td>\n      <td>200100</td>\n      <td>1000</td>\n      <td>600</td>\n      <td>2008-01-08</td>\n      <td>C00015</td>\n      <td>A003</td>\n      <td>SOD\\r</td>\n      <td>400</td>\n    </tr>\n    <tr>\n      <th>1</th>\n      <td>1</td>\n      <td>200110</td>\n      <td>3001</td>\n      <td>500</td>\n      <td>2008-04-15</td>\n      <td>C00019</td>\n      <td>A010</td>\n      <td>SOD\\r</td>\n      <td>2501</td>\n    </tr>\n    <tr>\n      <th>2</th>\n      <td>2</td>\n      <td>200107</td>\n      <td>4500</td>\n      <td>900</td>\n      <td>2008-08-30</td>\n      <td>C00007</td>\n      <td>A010</td>\n      <td>SOD\\r</td>\n      <td>3600</td>\n    </tr>\n    <tr>\n      <th>3</th>\n      <td>3</td>\n      <td>200112</td>\n      <td>2000</td>\n      <td>400</td>\n      <td>2008-05-30</td>\n      <td>C00016</td>\n      <td>A007</td>\n      <td>SOD\\r</td>\n      <td>1600</td>\n    </tr>\n    <tr>\n      <th>4</th>\n      <td>4</td>\n      <td>200113</td>\n      <td>4000</td>\n      <td>600</td>\n      <td>2008-06-10</td>\n      <td>C00022</td>\n      <td>A002</td>\n      <td>SOD\\r</td>\n      <td>3400</td>\n    </tr>\n  </tbody>\n</table>\n</div>"
     },
     "metadata": {},
     "execution_count": 4
    }
   ],
   "source": [
    "result = pd.read_sql('select * from orders', conn)\n",
    "result.head()"
   ]
  },
  {
   "source": [
    "## Create new table"
   ],
   "cell_type": "markdown",
   "metadata": {}
  },
  {
   "source": [
    "## Using execute Method"
   ],
   "cell_type": "markdown",
   "metadata": {}
  },
  {
   "source": [
    "### Example Queries"
   ],
   "cell_type": "markdown",
   "metadata": {}
  },
  {
   "cell_type": "code",
   "execution_count": 5,
   "metadata": {},
   "outputs": [],
   "source": [
    "delete=['DELETE FROM orders WHERE diff < 1000']\n",
    "\n",
    "drop=[\"DROP TABLE orders_diff\"]\n",
    "\n"
   ]
  },
  {
   "cell_type": "code",
   "execution_count": 6,
   "metadata": {},
   "outputs": [
    {
     "output_type": "execute_result",
     "data": {
      "text/plain": [
       "<sqlite3.Cursor at 0x187f5291110>"
      ]
     },
     "metadata": {},
     "execution_count": 6
    }
   ],
   "source": [
    "c.execute(delete[0])\n"
   ]
  },
  {
   "cell_type": "code",
   "execution_count": 7,
   "metadata": {},
   "outputs": [
    {
     "output_type": "execute_result",
     "data": {
      "text/plain": [
       "   index  ORD_NUM  ORD_AMOUNT  ADVANCE_AMOUNT    ORD_DATE CUST_CODE  \\\n",
       "0      1   200110        3001             500  2008-04-15    C00019   \n",
       "1      2   200107        4500             900  2008-08-30    C00007   \n",
       "2      3   200112        2000             400  2008-05-30    C00016   \n",
       "3      4   200113        4000             600  2008-06-10    C00022   \n",
       "4      5   200102        2000             300  2008-05-25    C00012   \n",
       "\n",
       "  AGENT_CODE ORD_DESCRIPTION  diff  \n",
       "0     A010             SOD\\r  2501  \n",
       "1     A010             SOD\\r  3600  \n",
       "2     A007             SOD\\r  1600  \n",
       "3     A002             SOD\\r  3400  \n",
       "4     A012             SOD\\r  1700  "
      ],
      "text/html": "<div>\n<style scoped>\n    .dataframe tbody tr th:only-of-type {\n        vertical-align: middle;\n    }\n\n    .dataframe tbody tr th {\n        vertical-align: top;\n    }\n\n    .dataframe thead th {\n        text-align: right;\n    }\n</style>\n<table border=\"1\" class=\"dataframe\">\n  <thead>\n    <tr style=\"text-align: right;\">\n      <th></th>\n      <th>index</th>\n      <th>ORD_NUM</th>\n      <th>ORD_AMOUNT</th>\n      <th>ADVANCE_AMOUNT</th>\n      <th>ORD_DATE</th>\n      <th>CUST_CODE</th>\n      <th>AGENT_CODE</th>\n      <th>ORD_DESCRIPTION</th>\n      <th>diff</th>\n    </tr>\n  </thead>\n  <tbody>\n    <tr>\n      <th>0</th>\n      <td>1</td>\n      <td>200110</td>\n      <td>3001</td>\n      <td>500</td>\n      <td>2008-04-15</td>\n      <td>C00019</td>\n      <td>A010</td>\n      <td>SOD\\r</td>\n      <td>2501</td>\n    </tr>\n    <tr>\n      <th>1</th>\n      <td>2</td>\n      <td>200107</td>\n      <td>4500</td>\n      <td>900</td>\n      <td>2008-08-30</td>\n      <td>C00007</td>\n      <td>A010</td>\n      <td>SOD\\r</td>\n      <td>3600</td>\n    </tr>\n    <tr>\n      <th>2</th>\n      <td>3</td>\n      <td>200112</td>\n      <td>2000</td>\n      <td>400</td>\n      <td>2008-05-30</td>\n      <td>C00016</td>\n      <td>A007</td>\n      <td>SOD\\r</td>\n      <td>1600</td>\n    </tr>\n    <tr>\n      <th>3</th>\n      <td>4</td>\n      <td>200113</td>\n      <td>4000</td>\n      <td>600</td>\n      <td>2008-06-10</td>\n      <td>C00022</td>\n      <td>A002</td>\n      <td>SOD\\r</td>\n      <td>3400</td>\n    </tr>\n    <tr>\n      <th>4</th>\n      <td>5</td>\n      <td>200102</td>\n      <td>2000</td>\n      <td>300</td>\n      <td>2008-05-25</td>\n      <td>C00012</td>\n      <td>A012</td>\n      <td>SOD\\r</td>\n      <td>1700</td>\n    </tr>\n  </tbody>\n</table>\n</div>"
     },
     "metadata": {},
     "execution_count": 7
    }
   ],
   "source": [
    "result = pd.read_sql('select * from orders', conn)\n",
    "result.head()"
   ]
  },
  {
   "source": [
    "## Create new table"
   ],
   "cell_type": "markdown",
   "metadata": {}
  },
  {
   "cell_type": "code",
   "execution_count": 8,
   "metadata": {},
   "outputs": [],
   "source": [
    "df_orders = pd.read_sql('select * from orders', conn)\n",
    "df_orders['diff'] = df_orders['ORD_AMOUNT']- df_orders['ADVANCE_AMOUNT']\n",
    "df_orders.to_sql('orders_diff', con=conn, if_exists='replace', index=False)"
   ]
  },
  {
   "cell_type": "code",
   "execution_count": 9,
   "metadata": {},
   "outputs": [
    {
     "output_type": "execute_result",
     "data": {
      "text/plain": [
       "[('agents',),\n",
       " ('company',),\n",
       " ('customer',),\n",
       " ('daysorder',),\n",
       " ('deliveries',),\n",
       " ('foods',),\n",
       " ('listofitem',),\n",
       " ('student',),\n",
       " ('studentreport',),\n",
       " ('customer_analytics',),\n",
       " ('Income_Expense_Data',),\n",
       " ('online_shoppers_intention',),\n",
       " ('orders',),\n",
       " ('orders_diff',)]"
      ]
     },
     "metadata": {},
     "execution_count": 9
    }
   ],
   "source": [
    "c.execute(\"SELECT name FROM sqlite_master WHERE type='table';\")\n",
    "c.fetchall()"
   ]
  },
  {
   "source": [
    "### Drop new table"
   ],
   "cell_type": "markdown",
   "metadata": {}
  },
  {
   "cell_type": "code",
   "execution_count": 10,
   "metadata": {},
   "outputs": [
    {
     "output_type": "execute_result",
     "data": {
      "text/plain": [
       "<sqlite3.Cursor at 0x187f5291110>"
      ]
     },
     "metadata": {},
     "execution_count": 10
    }
   ],
   "source": [
    "c.execute(drop[0])"
   ]
  },
  {
   "cell_type": "code",
   "execution_count": 11,
   "metadata": {},
   "outputs": [
    {
     "output_type": "execute_result",
     "data": {
      "text/plain": [
       "[('agents',),\n",
       " ('company',),\n",
       " ('customer',),\n",
       " ('daysorder',),\n",
       " ('deliveries',),\n",
       " ('foods',),\n",
       " ('listofitem',),\n",
       " ('student',),\n",
       " ('studentreport',),\n",
       " ('customer_analytics',),\n",
       " ('Income_Expense_Data',),\n",
       " ('online_shoppers_intention',),\n",
       " ('orders',)]"
      ]
     },
     "metadata": {},
     "execution_count": 11
    }
   ],
   "source": [
    "c.execute(\"SELECT name FROM sqlite_master WHERE type='table';\")\n",
    "c.fetchall()"
   ]
  },
  {
   "cell_type": "code",
   "execution_count": 12,
   "metadata": {},
   "outputs": [],
   "source": [
    "conn.commit()\n",
    "conn.close()"
   ]
  }
 ]
}